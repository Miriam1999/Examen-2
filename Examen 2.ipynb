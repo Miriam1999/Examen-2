{
 "cells": [
  {
   "cell_type": "markdown",
   "metadata": {},
   "source": [
    "# Evaluación  (Módulo 2)\n",
    "> El tema principal en este módulo fueron simulaciones Montecarlo. Al finalizar este módulo, se espera que ustedes hayan desarrollado las siguientes competencias y habilidades:\n",
    "> - Evaluar integrales (o encontrar áreas) numéricamente mendiante métodos Montecarlo.\n",
    "> - Realizar evaluaciones de probabilidad precio-umbral."
   ]
  },
  {
   "cell_type": "markdown",
   "metadata": {},
   "source": [
    "## 1. Evaluación numérica de integrales utilizando Montecarlo [70 pts]\n",
    "\n",
    "- **[10 puntos]** En la clase de evaluación de integrales numéricas por montecarlo vimos dos tipos de evaluación de integrales, diga cuales son y mencione sus características."
   ]
  },
  {
   "cell_type": "markdown",
   "metadata": {},
   "source": [
    "La *Integración de Montecarlo* **tipo 1** utiliza el valor promedio de la función mediante la suma de Riemann, dividiendo la región de la cual se quiere calcular el área en varios rectángulos.\n",
    "En cambio, la *Integración de Montecarlo* **tipo 2** es más útil cuando se trata de regiones de las cuales no se puede describir fácilmente su geometría tales como desigualdades o polinomios de mayor grado."
   ]
  },
  {
   "cell_type": "markdown",
   "metadata": {
    "collapsed": true
   },
   "source": [
    "#### Considere 3 de las siguientes funciones:\n",
    "\n",
    "#### $f_1(x)=\\frac {1}{\\ln x}$\n",
    "#### $f_2(x)=e^{e^{x}}$\n",
    "#### $f_3(x)=e^{-{\\frac {x^{2}}{2}}}$\n",
    "#### $f_4(x)=\\sqrt{1+x^{4}}$\n",
    "#### $f_5(x)=\\ln(\\ln x)$\n",
    "\n",
    "- **[20 puntos]** Grafique las funciones. \n",
    "- **[20 puntos]** Utilizando los dos métodos, realice la evaluación numérica de las integrales de las funciones anteriores en el intervalo $(4,5)$. \n",
    "- **[10 puntos]** Poner los resultados en una tabla cuyas filas correspondan a la cantidad de términos utilizados en la aproximación (usar 10, 100, 1000, 10000 y 100000 términos) y cuyas columnas correspondan a las funciones. [Sugerencia: Hacer una tabla por cada método.]\n",
    "- **[10 puntos]** ¿Se pueden ver diferencias notables en la velocidad de convergencia de los métodos?"
   ]
  },
  {
   "cell_type": "code",
   "execution_count": 55,
   "metadata": {},
   "outputs": [],
   "source": [
    "import pandas as pd\n",
    "import matplotlib.pyplot as plt\n",
    "import numpy as np\n",
    "%matplotlib inline\n",
    "def montecarlo_tipo_1(f,a,b,N):\n",
    "    return (b-a)/N*np.sum(f(np.random.uniform(a,b,N)))\n",
    "def montecarlo_tipo_2(region,a1,b1,a2,b2,N):\n",
    "    A_R=(b1-a1)*(b2-a2)\n",
    "    x=np.random.uniform(a1,b1,N.astype(int))\n",
    "    y=np.random.uniform(a2,b2,N.astype(int))\n",
    "    return A_R*np.sum(region(x))/N"
   ]
  },
  {
   "cell_type": "markdown",
   "metadata": {},
   "source": [
    "# Función 1"
   ]
  },
  {
   "cell_type": "markdown",
   "metadata": {},
   "source": [
    "**Gráfica**"
   ]
  },
  {
   "cell_type": "code",
   "execution_count": 49,
   "metadata": {},
   "outputs": [
    {
     "data": {
      "image/png": "[encoded data removed]",
      "text/plain": [
       "<Figure size 432x288 with 1 Axes>"
      ]
     },
     "metadata": {},
     "output_type": "display_data"
    }
   ],
   "source": [
    "def función_1(x):\n",
    "    return 1/np.log(x)\n",
    "x=np.linspace(4,5)\n",
    "y=función_1(x)\n",
    "plt.fill_between(x,y)\n",
    "plt.text(4.5,0.3,\"$\\mathcal{D}$\",fontsize=20)\n",
    "plt.show()"
   ]
  },
  {
   "cell_type": "markdown",
   "metadata": {},
   "source": [
    "**Integración de Montecarlo Tipo 1**"
   ]
  },
  {
   "cell_type": "code",
   "execution_count": 50,
   "metadata": {},
   "outputs": [
    {
     "data": {
      "text/html": [
       "<div>\n",
       "<style scoped>\n",
       "    .dataframe tbody tr th:only-of-type {\n",
       "        vertical-align: middle;\n",
       "    }\n",
       "\n",
       "    .dataframe tbody tr th {\n",
       "        vertical-align: top;\n",
       "    }\n",
       "\n",
       "    .dataframe thead th {\n",
       "        text-align: right;\n",
       "    }\n",
       "</style>\n",
       "<table border=\"1\" class=\"dataframe\">\n",
       "  <thead>\n",
       "    <tr style=\"text-align: right;\">\n",
       "      <th></th>\n",
       "      <th>Función 1</th>\n",
       "    </tr>\n",
       "    <tr>\n",
       "      <th>Cantidad de Términos</th>\n",
       "      <th></th>\n",
       "    </tr>\n",
       "  </thead>\n",
       "  <tbody>\n",
       "    <tr>\n",
       "      <th>10.0</th>\n",
       "      <td>0.666806</td>\n",
       "    </tr>\n",
       "    <tr>\n",
       "      <th>100.0</th>\n",
       "      <td>0.662876</td>\n",
       "    </tr>\n",
       "    <tr>\n",
       "      <th>1000.0</th>\n",
       "      <td>0.667036</td>\n",
       "    </tr>\n",
       "    <tr>\n",
       "      <th>10000.0</th>\n",
       "      <td>0.667491</td>\n",
       "    </tr>\n",
       "    <tr>\n",
       "      <th>100000.0</th>\n",
       "      <td>0.667007</td>\n",
       "    </tr>\n",
       "  </tbody>\n",
       "</table>\n",
       "</div>"
      ],
      "text/plain": [
       "                      Función 1\n",
       "Cantidad de Términos           \n",
       "10.0                   0.666806\n",
       "100.0                  0.662876\n",
       "1000.0                 0.667036\n",
       "10000.0                0.667491\n",
       "100000.0               0.667007"
      ]
     },
     "execution_count": 50,
     "metadata": {},
     "output_type": "execute_result"
    }
   ],
   "source": [
    "a,b=4,5\n",
    "N=np.logspace(1,5,5)\n",
    "df=pd.DataFrame(index=N,columns=[\"Función 1\"],dtype=\"float\")\n",
    "df.index.name=\"Cantidad de Términos\"\n",
    "for n in N:\n",
    "    df.loc[n,\"Función 1\"]=montecarlo_tipo_1(función_1,a,b,n.astype(int))\n",
    "df"
   ]
  },
  {
   "cell_type": "markdown",
   "metadata": {},
   "source": [
    "**Integración de Montecarlo Tipo 2**"
   ]
  },
  {
   "cell_type": "code",
   "execution_count": 59,
   "metadata": {},
   "outputs": [
    {
     "data": {
      "text/html": [
       "<div>\n",
       "<style scoped>\n",
       "    .dataframe tbody tr th:only-of-type {\n",
       "        vertical-align: middle;\n",
       "    }\n",
       "\n",
       "    .dataframe tbody tr th {\n",
       "        vertical-align: top;\n",
       "    }\n",
       "\n",
       "    .dataframe thead th {\n",
       "        text-align: right;\n",
       "    }\n",
       "</style>\n",
       "<table border=\"1\" class=\"dataframe\">\n",
       "  <thead>\n",
       "    <tr style=\"text-align: right;\">\n",
       "      <th></th>\n",
       "      <th>Función 1</th>\n",
       "    </tr>\n",
       "    <tr>\n",
       "      <th>Cantidad de Términos</th>\n",
       "      <th></th>\n",
       "    </tr>\n",
       "  </thead>\n",
       "  <tbody>\n",
       "    <tr>\n",
       "      <th>10.0</th>\n",
       "      <td>18.464437</td>\n",
       "    </tr>\n",
       "    <tr>\n",
       "      <th>100.0</th>\n",
       "      <td>25.719398</td>\n",
       "    </tr>\n",
       "    <tr>\n",
       "      <th>1000.0</th>\n",
       "      <td>-20.975664</td>\n",
       "    </tr>\n",
       "    <tr>\n",
       "      <th>10000.0</th>\n",
       "      <td>32.386403</td>\n",
       "    </tr>\n",
       "    <tr>\n",
       "      <th>100000.0</th>\n",
       "      <td>6.751201</td>\n",
       "    </tr>\n",
       "  </tbody>\n",
       "</table>\n",
       "</div>"
      ],
      "text/plain": [
       "                      Función 1\n",
       "Cantidad de Términos           \n",
       "10.0                  18.464437\n",
       "100.0                 25.719398\n",
       "1000.0               -20.975664\n",
       "10000.0               32.386403\n",
       "100000.0               6.751201"
      ]
     },
     "execution_count": 59,
     "metadata": {},
     "output_type": "execute_result"
    }
   ],
   "source": [
    "a1,a2,b1,b2=4,5,función_1(4),función_1(5)\n",
    "N=np.logspace(1,5,5)\n",
    "df=pd.DataFrame(index=N,columns=[\"Función 1\"],dtype=\"float\")\n",
    "df.index.name=\"Cantidad de Términos\"\n",
    "for n in N:\n",
    "    df.loc[n,\"Función 1\"]=montecarlo_tipo_2(función_1,a1,b1,a2,b2,n)      \n",
    "df"
   ]
  },
  {
   "cell_type": "markdown",
   "metadata": {},
   "source": [
    "# Función 2"
   ]
  },
  {
   "cell_type": "markdown",
   "metadata": {},
   "source": [
    "**Gráfica**"
   ]
  },
  {
   "cell_type": "code",
   "execution_count": 7,
   "metadata": {},
   "outputs": [
    {
     "data": {
      "image/png": "[encoded data removed]",
      "text/plain": [
       "<Figure size 432x288 with 1 Axes>"
      ]
     },
     "metadata": {},
     "output_type": "display_data"
    }
   ],
   "source": [
    "def función_2(x):\n",
    "    return np.exp(np.exp(x))\n",
    "x=np.linspace(4,5)\n",
    "y=función_2(x)\n",
    "plt.fill_between(x,y)\n",
    "plt.text(4.5,función_2(4.5)/2,\"$\\mathcal{D}$\",fontsize=20)\n",
    "plt.show()"
   ]
  },
  {
   "cell_type": "markdown",
   "metadata": {},
   "source": [
    "**Integración de Montecarlo Tipo 1**"
   ]
  },
  {
   "cell_type": "code",
   "execution_count": 32,
   "metadata": {},
   "outputs": [
    {
     "data": {
      "text/html": [
       "<div>\n",
       "<style scoped>\n",
       "    .dataframe tbody tr th:only-of-type {\n",
       "        vertical-align: middle;\n",
       "    }\n",
       "\n",
       "    .dataframe tbody tr th {\n",
       "        vertical-align: top;\n",
       "    }\n",
       "\n",
       "    .dataframe thead th {\n",
       "        text-align: right;\n",
       "    }\n",
       "</style>\n",
       "<table border=\"1\" class=\"dataframe\">\n",
       "  <thead>\n",
       "    <tr style=\"text-align: right;\">\n",
       "      <th></th>\n",
       "      <th>Función 2</th>\n",
       "    </tr>\n",
       "    <tr>\n",
       "      <th>Cantidad de Términos</th>\n",
       "      <th></th>\n",
       "    </tr>\n",
       "  </thead>\n",
       "  <tbody>\n",
       "    <tr>\n",
       "      <th>10.0</th>\n",
       "      <td>2.845689e+62</td>\n",
       "    </tr>\n",
       "    <tr>\n",
       "      <th>100.0</th>\n",
       "      <td>5.817078e+62</td>\n",
       "    </tr>\n",
       "    <tr>\n",
       "      <th>1000.0</th>\n",
       "      <td>1.299502e+62</td>\n",
       "    </tr>\n",
       "    <tr>\n",
       "      <th>10000.0</th>\n",
       "      <td>1.900256e+62</td>\n",
       "    </tr>\n",
       "    <tr>\n",
       "      <th>100000.0</th>\n",
       "      <td>1.970489e+62</td>\n",
       "    </tr>\n",
       "  </tbody>\n",
       "</table>\n",
       "</div>"
      ],
      "text/plain": [
       "                         Función 2\n",
       "Cantidad de Términos              \n",
       "10.0                  2.845689e+62\n",
       "100.0                 5.817078e+62\n",
       "1000.0                1.299502e+62\n",
       "10000.0               1.900256e+62\n",
       "100000.0              1.970489e+62"
      ]
     },
     "execution_count": 32,
     "metadata": {},
     "output_type": "execute_result"
    }
   ],
   "source": [
    "a,b=4,5\n",
    "N=np.logspace(1,5,5)\n",
    "df=pd.DataFrame(index=N,columns=[\"Función 2\"],dtype=\"float\")\n",
    "df.index.name=\"Cantidad de Términos\"\n",
    "for n in N:\n",
    "    df.loc[n,\"Función 2\"]=montecarlo_tipo_1(función_2,a,b,n.astype(int))\n",
    "df"
   ]
  },
  {
   "cell_type": "markdown",
   "metadata": {},
   "source": [
    "**Integración de Montecarlo Tipo 2**"
   ]
  },
  {
   "cell_type": "markdown",
   "metadata": {},
   "source": [
    "# Función 3"
   ]
  },
  {
   "cell_type": "markdown",
   "metadata": {},
   "source": [
    "**Gráfica**"
   ]
  },
  {
   "cell_type": "code",
   "execution_count": 10,
   "metadata": {},
   "outputs": [
    {
     "data": {
      "image/png": "[encoded data removed]",
      "text/plain": [
       "<Figure size 432x288 with 1 Axes>"
      ]
     },
     "metadata": {},
     "output_type": "display_data"
    }
   ],
   "source": [
    "def función_3(x):\n",
    "    return np.exp(-(x**2)/2)\n",
    "x=np.linspace(4,5)\n",
    "y=función_3(x)\n",
    "plt.fill_between(x,y)\n",
    "plt.text(4.2,0.00005,\"$\\mathcal{D}$\",fontsize=20)\n",
    "plt.show()"
   ]
  },
  {
   "cell_type": "markdown",
   "metadata": {},
   "source": [
    "**Integración de Montecarlo Tipo 1**"
   ]
  },
  {
   "cell_type": "code",
   "execution_count": 33,
   "metadata": {},
   "outputs": [
    {
     "data": {
      "text/html": [
       "<div>\n",
       "<style scoped>\n",
       "    .dataframe tbody tr th:only-of-type {\n",
       "        vertical-align: middle;\n",
       "    }\n",
       "\n",
       "    .dataframe tbody tr th {\n",
       "        vertical-align: top;\n",
       "    }\n",
       "\n",
       "    .dataframe thead th {\n",
       "        text-align: right;\n",
       "    }\n",
       "</style>\n",
       "<table border=\"1\" class=\"dataframe\">\n",
       "  <thead>\n",
       "    <tr style=\"text-align: right;\">\n",
       "      <th></th>\n",
       "      <th>Función 3</th>\n",
       "    </tr>\n",
       "    <tr>\n",
       "      <th>Cantidad de Términos</th>\n",
       "      <th></th>\n",
       "    </tr>\n",
       "  </thead>\n",
       "  <tbody>\n",
       "    <tr>\n",
       "      <th>10.0</th>\n",
       "      <td>0.000088</td>\n",
       "    </tr>\n",
       "    <tr>\n",
       "      <th>100.0</th>\n",
       "      <td>0.000090</td>\n",
       "    </tr>\n",
       "    <tr>\n",
       "      <th>1000.0</th>\n",
       "      <td>0.000079</td>\n",
       "    </tr>\n",
       "    <tr>\n",
       "      <th>10000.0</th>\n",
       "      <td>0.000079</td>\n",
       "    </tr>\n",
       "    <tr>\n",
       "      <th>100000.0</th>\n",
       "      <td>0.000078</td>\n",
       "    </tr>\n",
       "  </tbody>\n",
       "</table>\n",
       "</div>"
      ],
      "text/plain": [
       "                      Función 3\n",
       "Cantidad de Términos           \n",
       "10.0                   0.000088\n",
       "100.0                  0.000090\n",
       "1000.0                 0.000079\n",
       "10000.0                0.000079\n",
       "100000.0               0.000078"
      ]
     },
     "execution_count": 33,
     "metadata": {},
     "output_type": "execute_result"
    }
   ],
   "source": [
    "a,b=4,5\n",
    "N=np.logspace(1,5,5)\n",
    "df=pd.DataFrame(index=N,columns=[\"Función 3\"],dtype=\"float\")\n",
    "df.index.name=\"Cantidad de Términos\"\n",
    "for n in N:\n",
    "    df.loc[n,\"Función 3\"]=montecarlo_tipo_1(función_3,a,b,n.astype(int))\n",
    "df"
   ]
  },
  {
   "cell_type": "markdown",
   "metadata": {},
   "source": [
    "**Integración de Montecarlo Tipo 2**"
   ]
  },
  {
   "cell_type": "markdown",
   "metadata": {},
   "source": [
    "# Función 4"
   ]
  },
  {
   "cell_type": "markdown",
   "metadata": {},
   "source": [
    "**Gráfica**"
   ]
  },
  {
   "cell_type": "code",
   "execution_count": 13,
   "metadata": {},
   "outputs": [
    {
     "data": {
      "image/png": "[encoded data removed]",
      "text/plain": [
       "<Figure size 432x288 with 1 Axes>"
      ]
     },
     "metadata": {},
     "output_type": "display_data"
    }
   ],
   "source": [
    "def función_4(x):\n",
    "    return (1+x**4)**(1/2)\n",
    "x=np.linspace(4,5)\n",
    "y=función_4(x)\n",
    "plt.fill_between(x,y)\n",
    "plt.text(4.5,7,\"$\\mathcal{D}$\",fontsize=20)\n",
    "plt.show()"
   ]
  },
  {
   "cell_type": "markdown",
   "metadata": {},
   "source": [
    "**Integración de Montecarlo Tipo 1**"
   ]
  },
  {
   "cell_type": "code",
   "execution_count": 34,
   "metadata": {},
   "outputs": [
    {
     "data": {
      "text/html": [
       "<div>\n",
       "<style scoped>\n",
       "    .dataframe tbody tr th:only-of-type {\n",
       "        vertical-align: middle;\n",
       "    }\n",
       "\n",
       "    .dataframe tbody tr th {\n",
       "        vertical-align: top;\n",
       "    }\n",
       "\n",
       "    .dataframe thead th {\n",
       "        text-align: right;\n",
       "    }\n",
       "</style>\n",
       "<table border=\"1\" class=\"dataframe\">\n",
       "  <thead>\n",
       "    <tr style=\"text-align: right;\">\n",
       "      <th></th>\n",
       "      <th>Función 4</th>\n",
       "    </tr>\n",
       "    <tr>\n",
       "      <th>Cantidad de Términos</th>\n",
       "      <th></th>\n",
       "    </tr>\n",
       "  </thead>\n",
       "  <tbody>\n",
       "    <tr>\n",
       "      <th>10.0</th>\n",
       "      <td>20.952135</td>\n",
       "    </tr>\n",
       "    <tr>\n",
       "      <th>100.0</th>\n",
       "      <td>20.237490</td>\n",
       "    </tr>\n",
       "    <tr>\n",
       "      <th>1000.0</th>\n",
       "      <td>20.307459</td>\n",
       "    </tr>\n",
       "    <tr>\n",
       "      <th>10000.0</th>\n",
       "      <td>20.362794</td>\n",
       "    </tr>\n",
       "    <tr>\n",
       "      <th>100000.0</th>\n",
       "      <td>20.369063</td>\n",
       "    </tr>\n",
       "  </tbody>\n",
       "</table>\n",
       "</div>"
      ],
      "text/plain": [
       "                      Función 4\n",
       "Cantidad de Términos           \n",
       "10.0                  20.952135\n",
       "100.0                 20.237490\n",
       "1000.0                20.307459\n",
       "10000.0               20.362794\n",
       "100000.0              20.369063"
      ]
     },
     "execution_count": 34,
     "metadata": {},
     "output_type": "execute_result"
    }
   ],
   "source": [
    "a,b=4,5\n",
    "N=np.logspace(1,5,5)\n",
    "df=pd.DataFrame(index=N,columns=[\"Función 4\"],dtype=\"float\")\n",
    "df.index.name=\"Cantidad de Términos\"\n",
    "for n in N:\n",
    "    df.loc[n,\"Función 4\"]=montecarlo_tipo_1(función_4,a,b,n.astype(int))\n",
    "df"
   ]
  },
  {
   "cell_type": "markdown",
   "metadata": {},
   "source": [
    "**Integración de Montecarlo Tipo 2**"
   ]
  },
  {
   "cell_type": "markdown",
   "metadata": {},
   "source": [
    "# Función 5"
   ]
  },
  {
   "cell_type": "markdown",
   "metadata": {},
   "source": [
    "**Gráfica**"
   ]
  },
  {
   "cell_type": "code",
   "execution_count": 17,
   "metadata": {},
   "outputs": [
    {
     "data": {
      "image/png": "[encoded data removed]",
      "text/plain": [
       "<Figure size 432x288 with 1 Axes>"
      ]
     },
     "metadata": {},
     "output_type": "display_data"
    }
   ],
   "source": [
    "def función_5(x):\n",
    "    return np.log(np.log(x))\n",
    "x=np.linspace(4,5)\n",
    "y=función_5(x)\n",
    "plt.fill_between(x,y)\n",
    "plt.text(4.5,0.2,\"$\\mathcal{D}$\",fontsize=20)\n",
    "plt.show()"
   ]
  },
  {
   "cell_type": "markdown",
   "metadata": {},
   "source": [
    "**Integración de Montecarlo Tipo 1**"
   ]
  },
  {
   "cell_type": "code",
   "execution_count": 45,
   "metadata": {},
   "outputs": [
    {
     "data": {
      "text/html": [
       "<div>\n",
       "<style scoped>\n",
       "    .dataframe tbody tr th:only-of-type {\n",
       "        vertical-align: middle;\n",
       "    }\n",
       "\n",
       "    .dataframe tbody tr th {\n",
       "        vertical-align: top;\n",
       "    }\n",
       "\n",
       "    .dataframe thead th {\n",
       "        text-align: right;\n",
       "    }\n",
       "</style>\n",
       "<table border=\"1\" class=\"dataframe\">\n",
       "  <thead>\n",
       "    <tr style=\"text-align: right;\">\n",
       "      <th></th>\n",
       "      <th>Función 5</th>\n",
       "    </tr>\n",
       "    <tr>\n",
       "      <th>Cantidad de Términos</th>\n",
       "      <th></th>\n",
       "    </tr>\n",
       "  </thead>\n",
       "  <tbody>\n",
       "    <tr>\n",
       "      <th>10.0</th>\n",
       "      <td>0.404354</td>\n",
       "    </tr>\n",
       "    <tr>\n",
       "      <th>100.0</th>\n",
       "      <td>0.412438</td>\n",
       "    </tr>\n",
       "    <tr>\n",
       "      <th>1000.0</th>\n",
       "      <td>0.408744</td>\n",
       "    </tr>\n",
       "    <tr>\n",
       "      <th>10000.0</th>\n",
       "      <td>0.405707</td>\n",
       "    </tr>\n",
       "    <tr>\n",
       "      <th>100000.0</th>\n",
       "      <td>0.405808</td>\n",
       "    </tr>\n",
       "  </tbody>\n",
       "</table>\n",
       "</div>"
      ],
      "text/plain": [
       "                      Función 5\n",
       "Cantidad de Términos           \n",
       "10.0                   0.404354\n",
       "100.0                  0.412438\n",
       "1000.0                 0.408744\n",
       "10000.0                0.405707\n",
       "100000.0               0.405808"
      ]
     },
     "execution_count": 45,
     "metadata": {},
     "output_type": "execute_result"
    }
   ],
   "source": [
    "a,b=4,5\n",
    "N=np.logspace(1,5,5)\n",
    "df=pd.DataFrame(index=N,columns=[\"Función 5\"],dtype=\"float\")\n",
    "df.index.name=\"Cantidad de Términos\"\n",
    "for n in N:\n",
    "    df.loc[n,\"Función 5\"]=montecarlo_tipo_1(función_5,a,b,n.astype(int))\n",
    "df"
   ]
  },
  {
   "cell_type": "markdown",
   "metadata": {},
   "source": [
    "**Integración de Montecarlo Tipo 2**"
   ]
  },
  {
   "cell_type": "markdown",
   "metadata": {},
   "source": [
    "## 2. Probabilidad Precio-Umbral [40 pts]\n",
    "En este ejercicio se evaluarán dos compañías con tendencias más o menos similares (Apple y Microsoft)\n",
    "- **[30 pts]** Determine cuál tiene más probabilidades de darnos un interés deseado.\n",
    "\n",
    "- **[10 pts]** Además, descargue los datos del año 2017 para verificar si el análisis concuerda."
   ]
  },
  {
   "cell_type": "markdown",
   "metadata": {},
   "source": [
    "<script>\n",
    "  $(document).ready(function(){\n",
    "    $('div.prompt').hide();\n",
    "    $('div.back-to-top').hide();\n",
    "    $('nav#menubar').hide();\n",
    "    $('.breadcrumb').hide();\n",
    "    $('.hidden-print').hide();\n",
    "  });\n",
    "</script>\n",
    "\n",
    "<footer id=\"attribution\" style=\"float:right; color:#808080; background:#fff;\">\n",
    "Created with Jupyter by Xiuhcoatl.\n",
    "</footer>"
   ]
  }
 ],
 "metadata": {
  "kernelspec": {
   "display_name": "Python 3",
   "language": "python",
   "name": "python3"
  },
  "language_info": {
   "codemirror_mode": {
    "name": "ipython",
    "version": 3
   },
   "file_extension": ".py",
   "mimetype": "text/x-python",
   "name": "python",
   "nbconvert_exporter": "python",
   "pygments_lexer": "ipython3",
   "version": "3.6.6"
  }
 },
 "nbformat": 4,
 "nbformat_minor": 2
}
